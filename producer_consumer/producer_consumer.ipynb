{
 "cells": [
  {
   "cell_type": "markdown",
   "metadata": {},
   "source": [
    "# Using Pykafka"
   ]
  },
  {
   "cell_type": "markdown",
   "metadata": {},
   "source": [
    "# Install pykafka not recommended this way"
   ]
  },
  {
   "cell_type": "code",
   "execution_count": 4,
   "metadata": {},
   "outputs": [
    {
     "name": "stdout",
     "output_type": "stream",
     "text": [
      "Collecting package metadata (current_repodata.json): done\n",
      "Solving environment: done\n",
      "\n",
      "# All requested packages already installed.\n",
      "\n"
     ]
    }
   ],
   "source": [
    "!conda install -y -c conda-forge pykafka"
   ]
  },
  {
   "cell_type": "code",
   "execution_count": 9,
   "metadata": {},
   "outputs": [],
   "source": [
    "from pykafka import KafkaClient"
   ]
  },
  {
   "cell_type": "markdown",
   "metadata": {},
   "source": [
    "# Connect to cluster (from outside the network)"
   ]
  },
  {
   "cell_type": "code",
   "execution_count": 10,
   "metadata": {},
   "outputs": [],
   "source": [
    "client = KafkaClient(hosts=\"127.0.0.1:9092\")"
   ]
  },
  {
   "cell_type": "code",
   "execution_count": 11,
   "metadata": {},
   "outputs": [
    {
     "data": {
      "text/plain": [
       "{b'mytopic1': <pykafka.topic.Topic at 0x103a76ed0 (name=b'mytopic1')>,\n",
       " b'mytopic2': <pykafka.topic.Topic at 0x103844450 (name=b'mytopic2')>}"
      ]
     },
     "execution_count": 11,
     "metadata": {},
     "output_type": "execute_result"
    }
   ],
   "source": [
    "client.topics"
   ]
  },
  {
   "cell_type": "code",
   "execution_count": 12,
   "metadata": {},
   "outputs": [],
   "source": [
    "topic1 = client.topics['mytopic1']\n",
    "topic2 = client.topics['mytopic2']"
   ]
  },
  {
   "cell_type": "markdown",
   "metadata": {},
   "source": [
    "# Produce"
   ]
  },
  {
   "cell_type": "code",
   "execution_count": 20,
   "metadata": {},
   "outputs": [
    {
     "name": "stdout",
     "output_type": "stream",
     "text": [
      "0\n",
      "1\n",
      "2\n",
      "3\n"
     ]
    }
   ],
   "source": [
    "with topic1.get_producer(delivery_reports=True) as producer:\n",
    "    for i in range(4):\n",
    "        print(i)\n",
    "        producer.produce(partition_key=bytes('test key {}'.format(i), \"utf8\"), \n",
    "                         message=bytes('test message {}'.format(i), \"utf8\"))"
   ]
  },
  {
   "cell_type": "markdown",
   "metadata": {},
   "source": [
    "# Consume"
   ]
  },
  {
   "cell_type": "code",
   "execution_count": 15,
   "metadata": {},
   "outputs": [],
   "source": [
    "consumer1 = topic1.get_simple_consumer(consumer_timeout_ms=5000)\n",
    "consumer2 = topic2.get_simple_consumer(consumer_timeout_ms=5000)"
   ]
  },
  {
   "cell_type": "code",
   "execution_count": 16,
   "metadata": {},
   "outputs": [
    {
     "name": "stdout",
     "output_type": "stream",
     "text": [
      "0 b'test key 1' b'test message 1'\n",
      "1 b'test key 3' b'test message 3'\n",
      "2 b'test key 1' b'test message 1'\n",
      "3 b'test key 3' b'test message 3'\n",
      "0 b'test key 0' b'test message 0'\n",
      "1 b'test key 2' b'test message 2'\n",
      "2 b'test key 0' b'test message 0'\n",
      "3 b'test key 2' b'test message 2'\n"
     ]
    }
   ],
   "source": [
    "for message in consumer1:\n",
    "    try:\n",
    "        if message is not None:\n",
    "            print(message.offset, message.partition_key, message.value)\n",
    "    except:\n",
    "        print(\"error\")\n",
    "\n",
    "consumer1.stop()"
   ]
  },
  {
   "cell_type": "code",
   "execution_count": 17,
   "metadata": {},
   "outputs": [
    {
     "name": "stdout",
     "output_type": "stream",
     "text": [
      "0 b'test message 0' b'1'\n",
      "1 b'test message 2' b'1'\n",
      "2 b'test message 3' b'1'\n",
      "3 b'test message 1' b'1'\n",
      "4 b'test message 3' b'2'\n",
      "5 b'test message 1' b'2'\n",
      "6 b'test message 0' b'2'\n",
      "7 b'test message 2' b'2'\n"
     ]
    }
   ],
   "source": [
    "for message in consumer2:\n",
    "    try:\n",
    "        if message is not None:\n",
    "            print(message.offset, message.partition_key, message.value)\n",
    "    except:\n",
    "        print(\"error\")\n",
    "\n",
    "consumer2.stop()"
   ]
  },
  {
   "cell_type": "code",
   "execution_count": null,
   "metadata": {},
   "outputs": [],
   "source": []
  }
 ],
 "metadata": {
  "kernelspec": {
   "display_name": "Python 3",
   "language": "python",
   "name": "python3"
  },
  "language_info": {
   "codemirror_mode": {
    "name": "ipython",
    "version": 3
   },
   "file_extension": ".py",
   "mimetype": "text/x-python",
   "name": "python",
   "nbconvert_exporter": "python",
   "pygments_lexer": "ipython3",
   "version": "3.7.4"
  }
 },
 "nbformat": 4,
 "nbformat_minor": 2
}
