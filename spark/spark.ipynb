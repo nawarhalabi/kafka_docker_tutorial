{
 "cells": [
  {
   "cell_type": "markdown",
   "metadata": {},
   "source": [
    "# Install mysql connector and spark dependencies\n",
    "* Note that this way is not recommended. Best to use docker to create an image which is ready"
   ]
  },
  {
   "cell_type": "code",
   "execution_count": 1,
   "metadata": {},
   "outputs": [
    {
     "name": "stdout",
     "output_type": "stream",
     "text": [
      "Collecting mysql-connector-python\n",
      "\u001b[?25l  Downloading https://files.pythonhosted.org/packages/fc/c4/0e24d7213a0184d9e3bbef954ba18620975133203e870accbc8406398124/mysql_connector_python-8.0.19-cp37-cp37m-manylinux1_x86_64.whl (14.7MB)\n",
      "\u001b[K     |████████████████████████████████| 14.7MB 92kB/s eta 0:00:012    |██████                          | 2.8MB 2.6MB/s eta 0:00:05\n",
      "\u001b[?25hCollecting dnspython==1.16.0\n",
      "\u001b[?25l  Downloading https://files.pythonhosted.org/packages/ec/d3/3aa0e7213ef72b8585747aa0e271a9523e713813b9a20177ebe1e939deb0/dnspython-1.16.0-py2.py3-none-any.whl (188kB)\n",
      "\u001b[K     |████████████████████████████████| 194kB 20.4MB/s eta 0:00:01\n",
      "\u001b[?25hCollecting protobuf==3.6.1\n",
      "\u001b[?25l  Downloading https://files.pythonhosted.org/packages/3a/30/289ead101f94998d88e8961a3548aea29417ae0057be23972483cddebf4f/protobuf-3.6.1-cp37-cp37m-manylinux1_x86_64.whl (1.1MB)\n",
      "\u001b[K     |████████████████████████████████| 1.1MB 21.6MB/s eta 0:00:01\n",
      "\u001b[?25hRequirement already satisfied: setuptools in /opt/conda/lib/python3.7/site-packages (from protobuf==3.6.1->mysql-connector-python) (42.0.2.post20191201)\n",
      "Requirement already satisfied: six>=1.9 in /opt/conda/lib/python3.7/site-packages (from protobuf==3.6.1->mysql-connector-python) (1.13.0)\n",
      "Installing collected packages: dnspython, protobuf, mysql-connector-python\n",
      "  Found existing installation: protobuf 3.9.2\n",
      "    Uninstalling protobuf-3.9.2:\n",
      "      Successfully uninstalled protobuf-3.9.2\n",
      "Successfully installed dnspython-1.16.0 mysql-connector-python-8.0.19 protobuf-3.6.1\n"
     ]
    }
   ],
   "source": [
    "!pip install mysql-connector-python"
   ]
  },
  {
   "cell_type": "code",
   "execution_count": 1,
   "metadata": {},
   "outputs": [],
   "source": [
    "import os\n",
    "import mysql.connector\n",
    "\n",
    "def connect():\n",
    "    return mysql.connector.connect(\n",
    "        host=\"jdbc\",\n",
    "        user=\"username\",\n",
    "        passwd=\"password\",\n",
    "        database=\"topics\"\n",
    "    )"
   ]
  },
  {
   "cell_type": "code",
   "execution_count": 2,
   "metadata": {},
   "outputs": [],
   "source": [
    "os.environ['PYSPARK_SUBMIT_ARGS'] = '--packages org.apache.spark:spark-streaming-kafka-0-8_2.11:2.4.4,org.apache.spark:spark-sql-kafka-0-10_2.11:2.4.4,mysql:mysql-connector-java:5.1.48 pyspark-shell'"
   ]
  },
  {
   "cell_type": "code",
   "execution_count": 3,
   "metadata": {},
   "outputs": [],
   "source": [
    "#    Spark\n",
    "from pyspark import SparkContext\n",
    "#    Spark Streaming\n",
    "from pyspark.streaming import StreamingContext\n",
    "#    Kafka\n",
    "from pyspark.streaming.kafka import KafkaUtils\n",
    "#    json parsing\n",
    "import json\n",
    "import pyspark\n",
    "from pyspark.sql.functions import unbase64, count, window, col\n",
    "from pyspark.sql import SparkSession"
   ]
  },
  {
   "cell_type": "markdown",
   "metadata": {},
   "source": [
    "# Create spark and spark streaming sessions"
   ]
  },
  {
   "cell_type": "code",
   "execution_count": 4,
   "metadata": {},
   "outputs": [],
   "source": [
    "# Create normal spark session\n",
    "spark = SparkSession.builder \\\n",
    "                    .appName(\"test\") \\\n",
    "                    .getOrCreate()\n",
    "\n",
    "sc = spark.sparkContext\n",
    "sc.setLogLevel(\"WARN\")\n",
    "\n",
    "# Create a spark streaming session from the spark session\n",
    "# The 5 means how often to \n",
    "ssc = StreamingContext(sc, 5)"
   ]
  },
  {
   "cell_type": "markdown",
   "metadata": {},
   "source": [
    "# Try stream to stream processing"
   ]
  },
  {
   "cell_type": "code",
   "execution_count": null,
   "metadata": {},
   "outputs": [],
   "source": [
    "# Read topic\n",
    "df = spark.readStream \\\n",
    "          .format(\"kafka\") \\\n",
    "          .option(\"kafka.bootstrap.servers\", \"ksrv1:19092\") \\\n",
    "          .option(\"subscribe\", \"wc\") \\\n",
    "          .load()\n",
    "\n",
    "# Aggergation\n",
    "df = df.groupBy(\"value\") \\\n",
    "       .agg(count(\"timestamp\").alias(\"count\")) \\\n",
    "       .select(col(\"value\").cast(\"string\").alias(\"key\"),\n",
    "               col(\"count\").cast(\"string\").alias(\"value\"))\n",
    "\n",
    "# Write to stream\n",
    "df.writeStream \\\n",
    "  .format(\"kafka\") \\\n",
    "  .option(\"kafka.bootstrap.servers\", \"ksrv1:19092\") \\\n",
    "  .option(\"checkpointLocation\", \"checkpoint_wc\") \\\n",
    "  .option(\"topic\", \"res3\") \\\n",
    "  .outputMode(\"update\") \\\n",
    "  .start() \\\n",
    "  .awaitTermination(20)  "
   ]
  },
  {
   "cell_type": "markdown",
   "metadata": {},
   "source": [
    "# Try stream to DB processing"
   ]
  },
  {
   "cell_type": "code",
   "execution_count": 5,
   "metadata": {},
   "outputs": [],
   "source": [
    "# Read topic\n",
    "df_db = spark.readStream \\\n",
    "             .format(\"kafka\") \\\n",
    "             .option(\"kafka.bootstrap.servers\", \"ksrv1:19092\") \\\n",
    "             .option(\"subscribe\", \"wcc\") \\\n",
    "             .load()\n",
    "\n",
    "# Aggergation\n",
    "df_db = df_db.groupBy(\"value\") \\\n",
    "             .agg(count(\"timestamp\").alias(\"count\")) \\\n",
    "             .select(col(\"value\").cast(\"string\").alias(\"key\"),\n",
    "                     col(\"count\").cast(\"string\").alias(\"value\"))\n",
    "\n",
    "# Write to DB\n",
    "def process_batch(df_db, epoch_id):\n",
    "    \n",
    "    pd_df = df_db.toPandas()\n",
    "    try:\n",
    "        con = connect()\n",
    "        cur = con.cursor()\n",
    "        for i in range(len(pd_df)):\n",
    "            k = pd_df.iloc[i][\"key\"]\n",
    "            v = pd_df.iloc[i][\"value\"]\n",
    "            sql = \"REPLACE INTO mytopic (`key`, `value`) VALUES ('{}', '{}')\".format(k, v)\n",
    "            cur.execute(sql)\n",
    "        con.commit()\n",
    "    except:\n",
    "        pass\n",
    "    finally:\n",
    "        con.close()\n",
    "    pass\n",
    "query = df_db.writeStream \\\n",
    "             .outputMode(\"update\") \\\n",
    "             .option(\"checkpointLocation\", \"checkpoint_wc\") \\\n",
    "             .foreachBatch(process_batch) \\\n",
    "             .start().awaitTermination(20)\n"
   ]
  },
  {
   "cell_type": "code",
   "execution_count": null,
   "metadata": {},
   "outputs": [],
   "source": [
    "ssc.stop()"
   ]
  }
 ],
 "metadata": {
  "kernelspec": {
   "display_name": "Python 3",
   "language": "python",
   "name": "python3"
  },
  "language_info": {
   "codemirror_mode": {
    "name": "ipython",
    "version": 3
   },
   "file_extension": ".py",
   "mimetype": "text/x-python",
   "name": "python",
   "nbconvert_exporter": "python",
   "pygments_lexer": "ipython3",
   "version": "3.7.3"
  }
 },
 "nbformat": 4,
 "nbformat_minor": 2
}
