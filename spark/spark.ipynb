{
 "cells": [
  {
   "cell_type": "markdown",
   "metadata": {},
   "source": [
    "# Install mysql connector and spark dependencies\n",
    "* Note that this way is not recommended. Best to use docker to create an image which is ready"
   ]
  },
  {
   "cell_type": "code",
   "execution_count": 1,
   "metadata": {},
   "outputs": [
    {
     "name": "stdout",
     "output_type": "stream",
     "text": [
      "Requirement already satisfied: mysql-connector-python in /opt/conda/lib/python3.7/site-packages (8.0.19)\r\n",
      "Requirement already satisfied: protobuf==3.6.1 in /opt/conda/lib/python3.7/site-packages (from mysql-connector-python) (3.6.1)\r\n",
      "Requirement already satisfied: dnspython==1.16.0 in /opt/conda/lib/python3.7/site-packages (from mysql-connector-python) (1.16.0)\r\n",
      "Requirement already satisfied: setuptools in /opt/conda/lib/python3.7/site-packages (from protobuf==3.6.1->mysql-connector-python) (42.0.2.post20191201)\r\n",
      "Requirement already satisfied: six>=1.9 in /opt/conda/lib/python3.7/site-packages (from protobuf==3.6.1->mysql-connector-python) (1.13.0)\r\n"
     ]
    }
   ],
   "source": [
    "!pip install mysql-connector-python"
   ]
  },
  {
   "cell_type": "code",
   "execution_count": 2,
   "metadata": {},
   "outputs": [],
   "source": [
    "import os\n",
    "import mysql.connector\n",
    "\n",
    "def connect():\n",
    "    return mysql.connector.connect(\n",
    "        host=\"jdbc\",\n",
    "        user=\"username\",\n",
    "        passwd=\"password\",\n",
    "        database=\"topics\"\n",
    "    )"
   ]
  },
  {
   "cell_type": "code",
   "execution_count": 3,
   "metadata": {},
   "outputs": [],
   "source": [
    "os.environ['PYSPARK_SUBMIT_ARGS'] = '--packages org.apache.spark:spark-streaming-kafka-0-8_2.11:2.4.4,org.apache.spark:spark-sql-kafka-0-10_2.11:2.4.4,mysql:mysql-connector-java:5.1.48 pyspark-shell'"
   ]
  },
  {
   "cell_type": "code",
   "execution_count": 4,
   "metadata": {},
   "outputs": [],
   "source": [
    "#    Spark\n",
    "from pyspark import SparkContext\n",
    "#    Spark Streaming\n",
    "from pyspark.streaming import StreamingContext\n",
    "#    Kafka\n",
    "from pyspark.streaming.kafka import KafkaUtils\n",
    "#    json parsing\n",
    "import json\n",
    "import pyspark\n",
    "from pyspark.sql.functions import unbase64, count, window, col\n",
    "from pyspark.sql import SparkSession"
   ]
  },
  {
   "cell_type": "markdown",
   "metadata": {},
   "source": [
    "# Create spark and spark streaming sessions"
   ]
  },
  {
   "cell_type": "code",
   "execution_count": 5,
   "metadata": {},
   "outputs": [],
   "source": [
    "# Create normal spark session\n",
    "spark = SparkSession.builder \\\n",
    "                    .appName(\"test\") \\\n",
    "                    .getOrCreate()\n",
    "\n",
    "sc = spark.sparkContext\n",
    "sc.setLogLevel(\"WARN\")\n",
    "\n",
    "# Create a spark streaming session from the spark session\n",
    "# The 5 means how often to \n",
    "ssc = StreamingContext(sc, 5)"
   ]
  },
  {
   "cell_type": "markdown",
   "metadata": {},
   "source": [
    "# Try stream to stream processing"
   ]
  },
  {
   "cell_type": "code",
   "execution_count": 6,
   "metadata": {},
   "outputs": [
    {
     "data": {
      "text/plain": [
       "False"
      ]
     },
     "execution_count": 6,
     "metadata": {},
     "output_type": "execute_result"
    }
   ],
   "source": [
    "# Read topic\n",
    "df = spark.readStream \\\n",
    "          .format(\"kafka\") \\\n",
    "          .option(\"kafka.bootstrap.servers\", \"ksrv1:19092\") \\\n",
    "          .option(\"subscribe\", \"mytopic1\") \\\n",
    "          .load()\n",
    "\n",
    "# Aggergation\n",
    "df = df.groupBy(\"value\") \\\n",
    "       .agg(count(\"timestamp\").alias(\"count\")) \\\n",
    "       .select(col(\"value\").cast(\"string\").alias(\"key\"),\n",
    "               col(\"count\").cast(\"string\").alias(\"value\"))\n",
    "\n",
    "# Write to stream\n",
    "df.writeStream \\\n",
    "  .format(\"kafka\") \\\n",
    "  .option(\"kafka.bootstrap.servers\", \"ksrv1:19092\") \\\n",
    "  .option(\"checkpointLocation\", \"checkpoint_mytopic2_1\") \\\n",
    "  .option(\"topic\", \"mytopic2\") \\\n",
    "  .outputMode(\"update\") \\\n",
    "  .start() \\\n",
    "  .awaitTermination(20)  "
   ]
  },
  {
   "cell_type": "markdown",
   "metadata": {},
   "source": [
    "# Try stream to DB processing"
   ]
  },
  {
   "cell_type": "code",
   "execution_count": 7,
   "metadata": {},
   "outputs": [],
   "source": [
    "# Read topic\n",
    "df_db = spark.readStream \\\n",
    "             .format(\"kafka\") \\\n",
    "             .option(\"kafka.bootstrap.servers\", \"ksrv1:19092\") \\\n",
    "             .option(\"subscribe\", \"mytopic1\") \\\n",
    "             .load()\n",
    "\n",
    "# Aggergation\n",
    "df_db = df_db.groupBy(\"value\") \\\n",
    "             .agg(count(\"timestamp\").alias(\"count\")) \\\n",
    "             .select(col(\"value\").cast(\"string\").alias(\"key\"),\n",
    "                     col(\"count\").cast(\"string\").alias(\"value\"))\n",
    "\n",
    "# Write to DB\n",
    "def process_batch(df_db, epoch_id):\n",
    "    pd_df = df_db.toPandas()\n",
    "    try:\n",
    "        con = connect()\n",
    "        cur = con.cursor()\n",
    "        for i in range(len(pd_df)):\n",
    "            k = pd_df.iloc[i][\"key\"]\n",
    "            v = pd_df.iloc[i][\"value\"]\n",
    "            sql = \"REPLACE INTO mytopic (`key`, `value`) VALUES ('{}', '{}')\".format(k, v)\n",
    "            cur.execute(sql)\n",
    "        con.commit()\n",
    "    except:\n",
    "        pass\n",
    "    finally:\n",
    "        con.close()\n",
    "    pass\n",
    "    \n",
    "query = df_db.writeStream \\\n",
    "             .outputMode(\"update\") \\\n",
    "             .option(\"checkpointLocation\", \"checkpoint_mytopic2_2\") \\\n",
    "             .foreachBatch(process_batch) \\\n",
    "             .start().awaitTermination(20)\n"
   ]
  },
  {
   "cell_type": "code",
   "execution_count": null,
   "metadata": {},
   "outputs": [],
   "source": [
    "ssc.stop()"
   ]
  }
 ],
 "metadata": {
  "kernelspec": {
   "display_name": "Python 3",
   "language": "python",
   "name": "python3"
  },
  "language_info": {
   "codemirror_mode": {
    "name": "ipython",
    "version": 3
   },
   "file_extension": ".py",
   "mimetype": "text/x-python",
   "name": "python",
   "nbconvert_exporter": "python",
   "pygments_lexer": "ipython3",
   "version": "3.7.3"
  }
 },
 "nbformat": 4,
 "nbformat_minor": 2
}
